{
 "cells": [
  {
   "cell_type": "markdown",
   "metadata": {},
   "source": [
    "## 入门项目1：测试心理学现象"
   ]
  },
  {
   "cell_type": "markdown",
   "metadata": {},
   "source": [
    "项目背景信息：\n",
    "在一个 Stroop （斯特鲁普）任务中，参与者得到了一列文字，每个文字都用一种油墨颜色展示。参与者的任务是将文字的打印颜色大声说出来。这项任务有两个条件：一致文字条件，和不一致文字条件。在一致文字条件中，显示的文字是与它们的打印颜色匹配的颜色词，如“<font color=red>红色</font>”、“<font color=blue>蓝色</font>”。在不一致文字条件中，显示的文字是与它们的打印颜色不匹配的颜色词，如“<font color=green>紫色</font>”、“<font color=purple>橙色</font>”。在每个情况中，我们将计量说出同等大小的列表中的墨色名称的时间。每位参与者必须全部完成并记录每种条件下使用的时间。"
   ]
  },
  {
   "cell_type": "markdown",
   "metadata": {},
   "source": [
    "### 调查问题：\n",
    "### 1. 确认实验中的变量"
   ]
  },
  {
   "cell_type": "markdown",
   "metadata": {},
   "source": [
    "自变量为文字条件是否一致，即显示的文字与它们的打印颜色是否匹配。\n",
    "因变量是参与者全部完成该条件下记录下的所使用时间。"
   ]
  },
  {
   "cell_type": "markdown",
   "metadata": {},
   "source": [
    "### 2.建立假设"
   ]
  },
  {
   "cell_type": "markdown",
   "metadata": {},
   "source": [
    "零假设为：不同文字条件下完成斯特鲁普任务所需的时间没有差异\n",
    "\n",
    "对立假设为：不同文字条件下完成斯特鲁普任务所需的时间存在明显差异"
   ]
  },
  {
   "cell_type": "markdown",
   "metadata": {},
   "source": [
    "$H_0:\\mu_1=\\mu_2$   \n",
    "\n",
    "$H_0:\\mu_1\\neq\\mu_2$"
   ]
  },
  {
   "cell_type": "markdown",
   "metadata": {},
   "source": [
    "以上数学公式的$\\mu_1$表示在文字条件一致的情况下使用时间的总体均值，\n",
    "\n",
    "$\\mu_2$表示在文字条件不一致的情况下使用时间的总体均值"
   ]
  },
  {
   "cell_type": "markdown",
   "metadata": {},
   "source": [
    "### 3.建立统计检验"
   ]
  },
  {
   "cell_type": "markdown",
   "metadata": {},
   "source": [
    "首先由于总体参数我们无法得知，故选择t检验。\n",
    "\n",
    "同时根据对立假设，选择双尾检验。\n",
    "\n",
    "根据所获得的数据集，这次假设采用重复衡量的相依样本。\n",
    "\n",
    "使用相依样本t检验假设的前提，样本数据是来自同一受试者者的两次，而总体是独立的。\n",
    "\n",
    "其次来自的总体应该大概上正态分布的。样本数据可以用来估计总体方差。"
   ]
  },
  {
   "cell_type": "markdown",
   "metadata": {},
   "source": [
    "### 4.报告描述性统计分析"
   ]
  },
  {
   "cell_type": "markdown",
   "metadata": {},
   "source": [
    "样本1平均值   \n",
    "$\\overline{X_1}=14.05$  \n",
    "\n",
    "样本2平均值\n",
    "$\\overline{X_2}=22.02$  \n",
    "\n",
    "样本数量\n",
    "$n=24$\n",
    "\n",
    "自由度\n",
    "$df=23$\n",
    "\n",
    "差异点估计\n",
    "$\\mu_1-\\mu_2=-7.97$    \n",
    "\n",
    "差异点标准偏差\n",
    "$S=4.86$               "
   ]
  },
  {
   "cell_type": "markdown",
   "metadata": {},
   "source": [
    "### 5.绘制数据图"
   ]
  },
  {
   "cell_type": "code",
   "execution_count": 16,
   "metadata": {
    "collapsed": true
   },
   "outputs": [],
   "source": [
    "%matplotlib inline\n",
    "import pandas as pd\n",
    "import matplotlib.pyplot as plt\n",
    "import numpy as np"
   ]
  },
  {
   "cell_type": "code",
   "execution_count": 34,
   "metadata": {},
   "outputs": [
    {
     "data": {
      "image/png": "[encoded data removed]",
      "text/plain": [
       "<matplotlib.figure.Figure at 0x11da75350>"
      ]
     },
     "metadata": {},
     "output_type": "display_data"
    }
   ],
   "source": [
    "# 读取数据\n",
    "df = pd.read_csv('stroopdata.csv')\n",
    "# 设置画布大小\n",
    "plt.figure(figsize=(15,6))\n",
    "# 获取x轴大小\n",
    "n = df.Congruent.count()\n",
    "X = np.arange(n)\n",
    "# 绘制Congruent\n",
    "p1 = plt.bar(X, df.Congruent,width = 0.35,facecolor = 'lightskyblue',edgecolor = 'white')\n",
    "# 绘制Incongruent\n",
    "p2 = plt.bar(X+0.35,df.Incongruent,width = 0.35,facecolor = 'yellowgreen',edgecolor = 'white')\n",
    "# 添加注释\n",
    "plt.title('stroopdata')\n",
    "plt.legend(handles = [p1, p2,], labels = ['Congruent', 'Incongruent'], loc = 'best')\n",
    "plt.xlabel('every person')\n",
    "plt.ylabel('time(s)')\n",
    "plt.show()"
   ]
  },
  {
   "cell_type": "markdown",
   "metadata": {},
   "source": [
    "- 以上图表我们可以看出每个人观察不一致文字任务使用的时间更长"
   ]
  },
  {
   "cell_type": "markdown",
   "metadata": {},
   "source": [
    "### 6.执行统计检验并解读结果"
   ]
  },
  {
   "cell_type": "markdown",
   "metadata": {},
   "source": [
    "t统计量\n",
    "$t_{statistic} = \\frac{\\mu_1-\\mu_2}{s/\\sqrt{n}} = -8.02$  \n",
    "\n",
    "取显著性水平$\\alpha =0.05$，即置信水平为95%。 则双尾检验中t临界值为\n",
    "$t_{critical} = \\pm 2.069$\n",
    "\n",
    "可以判断t位于临界值之外，我们成功拒绝零假设，就说明不同文字条件下完成斯特鲁普任务所需的时间存在显著性差异。\n",
    "结果和我的预期判断一致。\n",
    "\n",
    "同时我们也可以获得该相依样本的置信区间\n",
    "$CI: M_D\\pm t_{critical}(\\frac{S_D}{\\sqrt{n}})= (-10.01,-5.91)$\n",
    "\n",
    "即总体样本在置信水平95%时的区间估计"
   ]
  },
  {
   "cell_type": "markdown",
   "metadata": {},
   "source": [
    "### 7.参考文件"
   ]
  },
  {
   "cell_type": "markdown",
   "metadata": {},
   "source": [
    "Markdown中写数学公式\n",
    "http://jzqt.github.io/2015/06/30/Markdown%E4%B8%AD%E5%86%99%E6%95%B0%E5%AD%A6%E5%85%AC%E5%BC%8F/#插入数学公式\n",
    "\n",
    "集中趋势\n",
    "http://www.baike.com/wiki/%E9%9B%86%E4%B8%AD%E8%B6%8B%E5%8A%BF\n",
    "\n",
    "什么是集中趋势和离散趋势?\n",
    "https://zhidao.baidu.com/question/243023656849762564.html\n",
    "\n",
    "matplotlib的基本用法(四)——设置legend图例\n",
    "http://blog.csdn.net/quincuntial/article/details/70947363"
   ]
  }
 ],
 "metadata": {
  "kernelspec": {
   "display_name": "Python [default]",
   "language": "python",
   "name": "python2"
  },
  "language_info": {
   "codemirror_mode": {
    "name": "ipython",
    "version": 2
   },
   "file_extension": ".py",
   "mimetype": "text/x-python",
   "name": "python",
   "nbconvert_exporter": "python",
   "pygments_lexer": "ipython2",
   "version": "2.7.14"
  }
 },
 "nbformat": 4,
 "nbformat_minor": 2
}
